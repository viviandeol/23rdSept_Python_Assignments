{
 "cells": [
  {
   "cell_type": "code",
   "execution_count": 3,
   "id": "8c180adb",
   "metadata": {},
   "outputs": [
    {
     "name": "stdout",
     "output_type": "stream",
     "text": [
      "Enter the quantity: 17\n",
      "Enter the price per item: 7999\n",
      "Total expenses =  122384.7\n"
     ]
    }
   ],
   "source": [
    "# 1. Discount calculation\n",
    "quantity = int(input(\"Enter the quantity: \"))\n",
    "price_per_item = float(input(\"Enter the price per item: \"))\n",
    "total_expenses = quantity * price_per_item\n",
    "if quantity > 10:\n",
    "    total_expenses = total_expenses * 0.9\n",
    "print(\"Total expenses = \", total_expenses)"
   ]
  },
  {
   "cell_type": "code",
   "execution_count": 11,
   "id": "d9b92c15",
   "metadata": {},
   "outputs": [
    {
     "name": "stdout",
     "output_type": "stream",
     "text": [
      "Enter the current year: 2023\n",
      "Enter the year of joining: 2019\n",
      "Bonus =  2500\n"
     ]
    }
   ],
   "source": [
    "# 2. Bonus calculation\n",
    "current_year = int(input(\"Enter the current year: \"))\n",
    "year_of_joining = int(input(\"Enter the year of joining: \"))\n",
    "number_of_years_of_service = current_year - year_of_joining\n",
    "if number_of_years_of_service > 3:\n",
    "    bonus = 2500\n",
    "else:\n",
    "    bonus = 0\n",
    "print(\"Bonus = \", bonus)"
   ]
  },
  {
   "cell_type": "code",
   "execution_count": 12,
   "id": "9c3cc029",
   "metadata": {},
   "outputs": [
    {
     "name": "stdout",
     "output_type": "stream",
     "text": [
      "Enter the current year: 2023\n",
      "Enter the year of joining: 2021\n",
      "Bonus =  0\n"
     ]
    }
   ],
   "source": [
    "current_year = int(input(\"Enter the current year: \"))\n",
    "year_of_joining = int(input(\"Enter the year of joining: \"))\n",
    "number_of_years_of_service = current_year - year_of_joining\n",
    "if number_of_years_of_service > 3:\n",
    "    bonus = 2500\n",
    "else:\n",
    "    bonus = 0\n",
    "print(\"Bonus = \", bonus)"
   ]
  },
  {
   "cell_type": "code",
   "execution_count": 13,
   "id": "9f5b2978",
   "metadata": {},
   "outputs": [
    {
     "name": "stdout",
     "output_type": "stream",
     "text": [
      "Enter the basic salary: 7500\n",
      "Gross salary =  15350.0\n"
     ]
    }
   ],
   "source": [
    "# 3. Gross salary calculation\n",
    "basic_salary = float(input(\"Enter the basic salary: \"))\n",
    "if basic_salary < 1500:\n",
    "    hra = 0.1 * basic_salary\n",
    "    da = 0.9 * basic_salary\n",
    "else:\n",
    "    hra = 500\n",
    "    da = 0.98 * basic_salary\n",
    "gross_salary = basic_salary + hra + da\n",
    "print(\"Gross salary = \", gross_salary)"
   ]
  },
  {
   "cell_type": "code",
   "execution_count": 15,
   "id": "48b45d18",
   "metadata": {},
   "outputs": [
    {
     "name": "stdout",
     "output_type": "stream",
     "text": [
      "Enter the basic salary: 1400\n",
      "Gross salary =  2800.0\n"
     ]
    }
   ],
   "source": [
    "basic_salary = float(input(\"Enter the basic salary: \"))\n",
    "if basic_salary < 1500:\n",
    "    hra = 0.1 * basic_salary\n",
    "    da = 0.9 * basic_salary\n",
    "else:\n",
    "    hra = 500\n",
    "    da = 0.98 * basic_salary\n",
    "gross_salary = basic_salary + hra + da\n",
    "print(\"Gross salary = \", gross_salary)"
   ]
  },
  {
   "cell_type": "code",
   "execution_count": 16,
   "id": "9b99ba2c",
   "metadata": {},
   "outputs": [
    {
     "name": "stdout",
     "output_type": "stream",
     "text": [
      "Enter the marks in subject 1: 93\n",
      "Enter the marks in subject 2: 85\n",
      "Enter the marks in subject 3: 91\n",
      "Enter the marks in subject 4: 89\n",
      "Enter the marks in subject 5: 99\n",
      "Division =  First\n"
     ]
    }
   ],
   "source": [
    "# 4. Marks and division calculation\n",
    "marks = []\n",
    "for i in range(5):\n",
    "    marks.append(float(input(\"Enter the marks in subject \" + str(i+1) + \": \")))\n",
    "    \n",
    "total_marks = sum(marks)\n",
    "percentage = total_marks / 500 * 100\n",
    "\n",
    "if percentage >= 60:\n",
    "    division = \"First\"\n",
    "elif percentage >= 50 and percentage < 60:\n",
    "    division = \"Second\"\n",
    "elif percentage >= 40 and percentage < 50:\n",
    "    division = \"Third\"\n",
    "else:\n",
    "    division = \"Fail\"\n",
    "    \n",
    "print(\"Division = \", division)"
   ]
  },
  {
   "cell_type": "code",
   "execution_count": 17,
   "id": "2c964d06",
   "metadata": {
    "scrolled": true
   },
   "outputs": [
    {
     "name": "stdout",
     "output_type": "stream",
     "text": [
      "Enter the marks in subject 1: 50\n",
      "Enter the marks in subject 2: 47\n",
      "Enter the marks in subject 3: 49\n",
      "Enter the marks in subject 4: 41\n",
      "Enter the marks in subject 5: 35\n",
      "Division =  Third\n"
     ]
    }
   ],
   "source": [
    "marks = []\n",
    "for i in range(5):\n",
    "    marks.append(float(input(\"Enter the marks in subject \" + str(i+1) + \": \")))\n",
    "    \n",
    "total_marks = sum(marks)\n",
    "percentage = total_marks / 500 * 100\n",
    "\n",
    "if percentage >= 60:\n",
    "    division = \"First\"\n",
    "elif percentage >= 50 and percentage < 60:\n",
    "    division = \"Second\"\n",
    "elif percentage >= 40 and percentage < 50:\n",
    "    division = \"Third\"\n",
    "else:\n",
    "    division = \"Fail\"\n",
    "    \n",
    "print(\"Division = \", division)"
   ]
  },
  {
   "cell_type": "code",
   "execution_count": 18,
   "id": "9ea7b222",
   "metadata": {},
   "outputs": [
    {
     "name": "stdout",
     "output_type": "stream",
     "text": [
      "Enter marital status (M/U): M\n",
      "Enter gender (M/F): M\n",
      "Enter age: 30\n",
      "Driver is eligible for insurance.\n"
     ]
    }
   ],
   "source": [
    "# 5. Driver insurance eligibility check\n",
    "marital_status = input(\"Enter marital status (M/U): \")\n",
    "gender = input(\"Enter gender (M/F): \")\n",
    "age = int(input(\"Enter age: \"))\n",
    "\n",
    "if marital_status == \"M\" or (marital_status == \"U\" and gender == \"M\" and age > 30) or (marital_status == \"U\" and gender == \"F\" and age > 25):\n",
    "    print(\"Driver is eligible for insurance.\")\n",
    "else:\n",
    "    print(\"Driver is not eligible for insurance.\")"
   ]
  },
  {
   "cell_type": "code",
   "execution_count": 20,
   "id": "0880a891",
   "metadata": {},
   "outputs": [
    {
     "name": "stdout",
     "output_type": "stream",
     "text": [
      "Enter marital status (M/U): U\n",
      "Enter gender (M/F): F\n",
      "Enter age: 23\n",
      "Driver is not eligible for insurance.\n"
     ]
    }
   ],
   "source": [
    "marital_status = input(\"Enter marital status (M/U): \")\n",
    "gender = input(\"Enter gender (M/F): \")\n",
    "age = int(input(\"Enter age: \"))\n",
    "\n",
    "if marital_status == \"M\" or (marital_status == \"U\" and gender == \"M\" and age > 30) or (marital_status == \"U\" and gender == \"F\" and age > 25):\n",
    "    print(\"Driver is eligible for insurance.\")\n",
    "else:\n",
    "    print(\"Driver is not eligible for insurance.\")"
   ]
  },
  {
   "cell_type": "code",
   "execution_count": 24,
   "id": "614cc51b",
   "metadata": {},
   "outputs": [
    {
     "name": "stdout",
     "output_type": "stream",
     "text": [
      "Enter gender(Male/Female): Male\n",
      "Enter the years of service: 10\n",
      "Enter qualifications (Graduate/Post-Graduate: )Graduate\n",
      "The calculated salary is Rs. 10000/-\n"
     ]
    }
   ],
   "source": [
    "# 6. Salary calculation\n",
    "gender = input(\"Enter gender(Male/Female): \")\n",
    "years_of_service = int(input(\"Enter the years of service: \"))\n",
    "qualifications = input(\"Enter qualifications (Graduate/Post-Graduate: )\")\n",
    "\n",
    "salary = 0\n",
    "\n",
    "if gender == \"Male\":\n",
    "    if years_of_service >= 10:\n",
    "        if qualifications == \"Post-Graduate\":\n",
    "            salary = 15000\n",
    "        else:\n",
    "            salary = 10000\n",
    "    else: \n",
    "        if qualifications == \"Post-Graduate\":\n",
    "            salary = 10000\n",
    "        else:\n",
    "            salary = 7000\n",
    "elif gender == \"Female\":\n",
    "    if years_of_service >= 10:\n",
    "        if qualifications == \"Post-Graduate\":\n",
    "            salary = 12000\n",
    "        else:\n",
    "            salary = 9000\n",
    "    else:\n",
    "        if qualifications == \"Post-Graduate\":\n",
    "            salary = 10000\n",
    "        else:\n",
    "            salary = 6000\n",
    "            \n",
    "print(f\"The calculated salary is Rs. {salary}/-\")"
   ]
  },
  {
   "cell_type": "code",
   "execution_count": 26,
   "id": "7aac5893",
   "metadata": {},
   "outputs": [
    {
     "name": "stdout",
     "output_type": "stream",
     "text": [
      "Enter gender(Male/Female): Female\n",
      "Enter the years of service: 8\n",
      "Enter qualifications (Graduate/Post-Graduate: )Post-Graduate\n",
      "The calculated salary is Rs. 10000/-\n"
     ]
    }
   ],
   "source": [
    "gender = input(\"Enter gender(Male/Female): \")\n",
    "years_of_service = int(input(\"Enter the years of service: \"))\n",
    "qualifications = input(\"Enter qualifications (Graduate/Post-Graduate: )\")\n",
    "\n",
    "salary = 0\n",
    "\n",
    "if gender == \"Male\":\n",
    "    if years_of_service >= 10:\n",
    "        if qualifications == \"Post-Graduate\":\n",
    "            salary = 15000\n",
    "        else:\n",
    "            salary = 10000\n",
    "    else: \n",
    "        if qualifications == \"Post-Graduate\":\n",
    "            salary = 10000\n",
    "        else:\n",
    "            salary = 7000\n",
    "elif gender == \"Female\":\n",
    "    if years_of_service >= 10:\n",
    "        if qualifications == \"Post-Graduate\":\n",
    "            salary = 12000\n",
    "        else:\n",
    "            salary = 9000\n",
    "    else:\n",
    "        if qualifications == \"Post-Graduate\":\n",
    "            salary = 10000\n",
    "        else:\n",
    "            salary = 6000\n",
    "            \n",
    "print(f\"The calculated salary is Rs. {salary}/-\")"
   ]
  },
  {
   "cell_type": "code",
   "execution_count": 27,
   "id": "f0f1a2b1",
   "metadata": {},
   "outputs": [
    {
     "name": "stdout",
     "output_type": "stream",
     "text": [
      "Enter cost price: 999\n",
      "Enter selling price: 3499\n",
      "Profit made:  2500.0\n"
     ]
    }
   ],
   "source": [
    "# 7. Profit or Loss\n",
    "\n",
    "cost_price = float(input(\"Enter cost price: \"))\n",
    "selling_price = float(input(\"Enter selling price: \"))\n",
    "\n",
    "if selling_price > cost_price:\n",
    "    profit = selling_price - cost_price\n",
    "    print(\"Profit made: \", profit)\n",
    "elif selling_price < cost_price:\n",
    "    loss = cost_price - selling_price\n",
    "    print(\"Loss incurred: \", loss)\n",
    "else:\n",
    "    print(\"Neither profit nor loss\")"
   ]
  },
  {
   "cell_type": "code",
   "execution_count": 28,
   "id": "1b6d73bb",
   "metadata": {},
   "outputs": [
    {
     "name": "stdout",
     "output_type": "stream",
     "text": [
      "Enter cost price: 999\n",
      "Enter selling price: 999\n",
      "Neither profit nor loss\n"
     ]
    }
   ],
   "source": [
    "cost_price = float(input(\"Enter cost price: \"))\n",
    "selling_price = float(input(\"Enter selling price: \"))\n",
    "\n",
    "if selling_price > cost_price:\n",
    "    profit = selling_price - cost_price\n",
    "    print(\"Profit made: \", profit)\n",
    "elif selling_price < cost_price:\n",
    "    loss = cost_price - selling_price\n",
    "    print(\"Loss incurred: \", loss)\n",
    "else:\n",
    "    print(\"Neither profit nor loss\")"
   ]
  },
  {
   "cell_type": "code",
   "execution_count": 29,
   "id": "04eff9e8",
   "metadata": {},
   "outputs": [
    {
     "name": "stdout",
     "output_type": "stream",
     "text": [
      "Enter cost price: 3599\n",
      "Enter selling price: 2799\n",
      "Loss incurred:  800.0\n"
     ]
    }
   ],
   "source": [
    "cost_price = float(input(\"Enter cost price: \"))\n",
    "selling_price = float(input(\"Enter selling price: \"))\n",
    "\n",
    "if selling_price > cost_price:\n",
    "    profit = selling_price - cost_price\n",
    "    print(\"Profit made: \", profit)\n",
    "elif selling_price < cost_price:\n",
    "    loss = cost_price - selling_price\n",
    "    print(\"Loss incurred: \", loss)\n",
    "else:\n",
    "    print(\"Neither profit nor loss\")"
   ]
  },
  {
   "cell_type": "code",
   "execution_count": 30,
   "id": "f9e92cf6",
   "metadata": {},
   "outputs": [
    {
     "name": "stdout",
     "output_type": "stream",
     "text": [
      "Enter a number: 7\n",
      "Odd number\n"
     ]
    }
   ],
   "source": [
    "# Odd or Even\n",
    "\n",
    "number = int(input(\"Enter a number: \"))\n",
    "\n",
    "if number % 2 == 0:\n",
    "    print(\"Even number\")\n",
    "else:\n",
    "    print(\"Odd number\")"
   ]
  },
  {
   "cell_type": "code",
   "execution_count": 31,
   "id": "949c3b57",
   "metadata": {},
   "outputs": [
    {
     "name": "stdout",
     "output_type": "stream",
     "text": [
      "Enter a number: 4\n",
      "Even number\n"
     ]
    }
   ],
   "source": [
    "number = int(input(\"Enter a number: \"))\n",
    "\n",
    "if number % 2 == 0:\n",
    "    print(\"Even number\")\n",
    "else:\n",
    "    print(\"Odd number\")"
   ]
  },
  {
   "cell_type": "code",
   "execution_count": 32,
   "id": "bde91921",
   "metadata": {},
   "outputs": [
    {
     "name": "stdout",
     "output_type": "stream",
     "text": [
      "Enter a five-digit number: 74536\n",
      "Not a Palindrome\n"
     ]
    }
   ],
   "source": [
    "# 9. Reverse of a number\n",
    "\n",
    "number = int(input(\"Enter a five-digit number: \"))\n",
    "reversed_number = 0\n",
    "\n",
    "while number > 0:\n",
    "    remainder = number % 10\n",
    "    reversed_number = reversed_number * 10 + remainder\n",
    "    number = number // 10\n",
    "    \n",
    "if number == reversed_number:\n",
    "    print(\"Palindrome\")\n",
    "else:\n",
    "    print(\"Not a Palindrome\")\n",
    "             "
   ]
  },
  {
   "cell_type": "code",
   "execution_count": 42,
   "id": "757a2e5f",
   "metadata": {},
   "outputs": [
    {
     "name": "stdout",
     "output_type": "stream",
     "text": [
      "Enter a five-digit number: 54545\n",
      "The original number 54545 is a Palindrome.\n"
     ]
    }
   ],
   "source": [
    "#Or the other way\n",
    "\n",
    "number = input(\"Enter a five-digit number: \")\n",
    "\n",
    "if len(number) == 5 and number.isdigit():\n",
    "    number = int(number)\n",
    "\n",
    "    reversed_number = 0\n",
    "    original_number = number\n",
    "\n",
    "    while number > 0:\n",
    "        digit = number % 10\n",
    "        reversed_number = reversed_number * 10 + digit\n",
    "        number //= 10\n",
    "\n",
    "    if original_number == reversed_number:\n",
    "        print(f\"The original number {original_number} is a Palindrome.\")\n",
    "    else:\n",
    "        print(f\"The original number {original_number} is not a Palindrome {reversed_number}.\")\n",
    "else:\n",
    "    print(\"Invalid input. Please enter a five-digit number.\")\n"
   ]
  },
  {
   "cell_type": "code",
   "execution_count": 47,
   "id": "1f9123f2",
   "metadata": {},
   "outputs": [
    {
     "name": "stdout",
     "output_type": "stream",
     "text": [
      "Enter Ram's age: 24\n",
      "Enter Shyam's age: 32\n",
      "Enter Ajay's age: 28\n",
      "Youngest: Ram\n"
     ]
    }
   ],
   "source": [
    "# 10. Youngest of three\n",
    "\n",
    "ram_age = int(input(\"Enter Ram's age: \"))\n",
    "shyam_age = int(input(\"Enter Shyam's age: \"))\n",
    "ajay_age = int(input(\"Enter Ajay's age: \"))\n",
    "\n",
    "if ram_age < shyam_age and ram_age < ajay_age:\n",
    "    youngest = \"Ram\"\n",
    "elif shyam_age < ram_age and shyam_age < ajay_age:\n",
    "    youngest = \"Shyam\"\n",
    "else:\n",
    "    youngest = \"Ajay\"\n",
    "    \n",
    "print(\"Youngest:\", youngest)"
   ]
  },
  {
   "cell_type": "code",
   "execution_count": 48,
   "id": "5e757d6e",
   "metadata": {},
   "outputs": [
    {
     "name": "stdout",
     "output_type": "stream",
     "text": [
      "Enter angle 1: 70\n",
      "Enter angle 2: 50\n",
      "Enter angle 3: 60\n",
      "Valid Triangle\n"
     ]
    }
   ],
   "source": [
    "# 11. Valid triangle\n",
    "angle1 = int(input(\"Enter angle 1: \"))\n",
    "angle2 = int(input(\"Enter angle 2: \"))\n",
    "angle3 = int(input(\"Enter angle 3: \"))\n",
    "\n",
    "if angle1 + angle2 + angle3 == 180:\n",
    "    print(\"Valid Triangle\")\n",
    "else:\n",
    "    print(\"Invalid Triangle\")"
   ]
  },
  {
   "cell_type": "code",
   "execution_count": 49,
   "id": "f129fac0",
   "metadata": {},
   "outputs": [
    {
     "name": "stdout",
     "output_type": "stream",
     "text": [
      "Enter angle 1: 70\n",
      "Enter angle 2: 80\n",
      "Enter angle 3: 90\n",
      "Invalid Triangle\n"
     ]
    }
   ],
   "source": [
    "angle1 = int(input(\"Enter angle 1: \"))\n",
    "angle2 = int(input(\"Enter angle 2: \"))\n",
    "angle3 = int(input(\"Enter angle 3: \"))\n",
    "\n",
    "if angle1 + angle2 + angle3 == 180:\n",
    "    print(\"Valid Triangle\")\n",
    "else:\n",
    "    print(\"Invalid Triangle\")"
   ]
  },
  {
   "cell_type": "code",
   "execution_count": 50,
   "id": "bd340934",
   "metadata": {},
   "outputs": [
    {
     "name": "stdout",
     "output_type": "stream",
     "text": [
      "Enter a number: 9\n",
      "Absolute Value:  9\n"
     ]
    }
   ],
   "source": [
    "# 12. Absolute value\n",
    "\n",
    "number = int(input(\"Enter a number: \"))\n",
    "if number < 0:\n",
    "    absolute_value = -number\n",
    "else:\n",
    "    absolute_value = number\n",
    "    \n",
    "print(\"Absolute Value: \", absolute_value)"
   ]
  },
  {
   "cell_type": "code",
   "execution_count": 55,
   "id": "42723a96",
   "metadata": {},
   "outputs": [
    {
     "name": "stdout",
     "output_type": "stream",
     "text": [
      "Enter length: 20\n",
      "Enter breadth: 10\n",
      "Area is greater than perimeter\n"
     ]
    }
   ],
   "source": [
    "# 13. Area of rectangle\n",
    "\n",
    "length = int(input(\"Enter length: \"))\n",
    "breadth = int(input(\"Enter breadth: \"))\n",
    "\n",
    "area = length * breadth\n",
    "perimeter = 2 * (length + breadth)\n",
    "\n",
    "if area > perimeter:\n",
    "    print(\"Area is greater than perimeter\")\n",
    "else:\n",
    "    print(\"Area is not greater than perimeter\")"
   ]
  },
  {
   "cell_type": "code",
   "execution_count": 57,
   "id": "c5f29668",
   "metadata": {},
   "outputs": [
    {
     "name": "stdout",
     "output_type": "stream",
     "text": [
      "Enter year: 2023\n",
      "Not a Leap year\n"
     ]
    }
   ],
   "source": [
    "# 14. Leap year\n",
    "\n",
    "year = int(input(\"Enter year: \"))\n",
    "if(year % 4 == 0 and year % 100 != 0) or year % 400 == 0:\n",
    "    print(\"Leap year\")\n",
    "else:\n",
    "    print(\"Not a Leap year\")"
   ]
  },
  {
   "cell_type": "code",
   "execution_count": 60,
   "id": "8655a488",
   "metadata": {},
   "outputs": [
    {
     "name": "stdout",
     "output_type": "stream",
     "text": [
      "Enter year: 2020\n",
      "Leap year\n"
     ]
    }
   ],
   "source": [
    "year = int(input(\"Enter year: \"))\n",
    "\n",
    "if(year % 4 == 0 and year % 100 != 0) or year % 400 == 0:\n",
    "    print(\"Leap year\")\n",
    "else:\n",
    "    print(\"Not a Leap year\")"
   ]
  },
  {
   "cell_type": "code",
   "execution_count": 65,
   "id": "d1e474b4",
   "metadata": {},
   "outputs": [
    {
     "name": "stdout",
     "output_type": "stream",
     "text": [
      "Enter hardness: 64\n",
      "Enter carbon content: 0.7\n",
      "Enter tensile strength: 5700\n",
      "Grade: 7\n"
     ]
    }
   ],
   "source": [
    "# 15. Steel Grading\n",
    "\n",
    "hardness = float(input(\"Enter hardness: \"))\n",
    "carbon_content = float(input(\"Enter carbon content: \"))\n",
    "tensile_strength = float(input(\"Enter tensile strength: \"))\n",
    "\n",
    "grade = 0\n",
    "\n",
    "if hardness > 50:\n",
    "    grade += 1\n",
    "if carbon_content < 0.7:\n",
    "    grade += 1\n",
    "if tensile_strength > 5600:\n",
    "    grade += 1\n",
    "    \n",
    "if grade == 3:\n",
    "    print(\"Grade: 10\")\n",
    "elif grade == 2:\n",
    "    if hardness > 50 and carbon_content < 0.7:\n",
    "        print(\"Grade: 9\")\n",
    "    elif carbon_content < 0.7 and tensile_strength > 5600:\n",
    "        print(\"Grade: 8\")\n",
    "    elif hardness > 50 and tensile_strength > 5600:\n",
    "        print(\"Grade: 7\")\n",
    "elif grade == 1:\n",
    "    print(\"Grade: 6\")\n",
    "else:\n",
    "    print(\"Grade: 5\")\n"
   ]
  },
  {
   "cell_type": "code",
   "execution_count": 67,
   "id": "26563fd3",
   "metadata": {},
   "outputs": [
    {
     "name": "stdout",
     "output_type": "stream",
     "text": [
      "Enter number of days late: 45\n",
      "Membership cancelled\n"
     ]
    }
   ],
   "source": [
    "# 16. Library fine\n",
    "\n",
    "days_late = int(input(\"Enter number of days late: \"))\n",
    "\n",
    "if days_late <= 5:\n",
    "    fine = 0.5\n",
    "elif days_late <= 10:\n",
    "    fine = 1\n",
    "elif days_late <= 30:\n",
    "    fine = 5\n",
    "else:\n",
    "    print(\"Membership cancelled\")\n",
    "    \n",
    "if days_late <= 30:\n",
    "    print(\"Fine: \", fine)"
   ]
  },
  {
   "cell_type": "code",
   "execution_count": 68,
   "id": "57e830d5",
   "metadata": {},
   "outputs": [
    {
     "name": "stdout",
     "output_type": "stream",
     "text": [
      "Enter number of days late: 17\n",
      "Fine:  5\n"
     ]
    }
   ],
   "source": [
    "days_late = int(input(\"Enter number of days late: \"))\n",
    "\n",
    "if days_late <= 5:\n",
    "    fine = 0.5\n",
    "elif days_late <= 10:\n",
    "    fine = 1\n",
    "elif days_late <= 30:\n",
    "    fine = 5\n",
    "else:\n",
    "    print(\"Membership cancelled\")\n",
    "    \n",
    "if days_late <= 30:\n",
    "    print(\"Fine: \", fine)"
   ]
  },
  {
   "cell_type": "code",
   "execution_count": 69,
   "id": "f4d451f5",
   "metadata": {},
   "outputs": [
    {
     "name": "stdout",
     "output_type": "stream",
     "text": [
      "Enter time taken: 2\n",
      "Highly efficient\n"
     ]
    }
   ],
   "source": [
    "# 17. Worker Efficiency\n",
    "\n",
    "time_taken = float(input(\"Enter time taken: \"))\n",
    "\n",
    "if time_taken >= 2 and time_taken <3:\n",
    "    print(\"Highly efficient\")\n",
    "elif time_taken >= 3 and time_taken < 4:\n",
    "    print(\"Improve speed\")\n",
    "elif time_taken >=4 and time_taken <5:\n",
    "    print(\"Training required\")\n",
    "else:\n",
    "    print(\"Leave the company\")"
   ]
  },
  {
   "cell_type": "code",
   "execution_count": 70,
   "id": "8f38551d",
   "metadata": {
    "scrolled": true
   },
   "outputs": [
    {
     "name": "stdout",
     "output_type": "stream",
     "text": [
      "Enter time taken: 5\n",
      "Leave the company\n"
     ]
    }
   ],
   "source": [
    "time_taken = float(input(\"Enter time taken: \"))\n",
    "\n",
    "if time_taken >= 2 and time_taken <3:\n",
    "    print(\"Highly efficient\")\n",
    "elif time_taken >= 3 and time_taken < 4:\n",
    "    print(\"Improve speed\")\n",
    "elif time_taken >=4 and time_taken <5:\n",
    "    print(\"Training required\")\n",
    "else:\n",
    "    print(\"Leave the company\")"
   ]
  },
  {
   "cell_type": "code",
   "execution_count": null,
   "id": "fd72f175",
   "metadata": {},
   "outputs": [],
   "source": []
  }
 ],
 "metadata": {
  "kernelspec": {
   "display_name": "Python 3 (ipykernel)",
   "language": "python",
   "name": "python3"
  },
  "language_info": {
   "codemirror_mode": {
    "name": "ipython",
    "version": 3
   },
   "file_extension": ".py",
   "mimetype": "text/x-python",
   "name": "python",
   "nbconvert_exporter": "python",
   "pygments_lexer": "ipython3",
   "version": "3.11.4"
  }
 },
 "nbformat": 4,
 "nbformat_minor": 5
}
