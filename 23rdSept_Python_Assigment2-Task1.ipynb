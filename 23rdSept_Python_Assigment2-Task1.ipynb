{
 "cells": [
  {
   "cell_type": "code",
   "execution_count": 24,
   "id": "7e344882",
   "metadata": {},
   "outputs": [
    {
     "name": "stdout",
     "output_type": "stream",
     "text": [
      "Enter the basic salary 850000\n",
      "Gross Salary =  1360000.0\n"
     ]
    }
   ],
   "source": [
    "# 1. Basic salary calculation\n",
    "basic_salary = float(input('Enter the basic salary '))\n",
    "dearness_allowance = 0.4 * basic_salary\n",
    "house_rent_allowance = 0.2 * basic_salary\n",
    "gross_salary = basic_salary + dearness_allowance + house_rent_allowance\n",
    "print(\"Gross Salary = \", gross_salary)"
   ]
  },
  {
   "cell_type": "code",
   "execution_count": 22,
   "id": "9f8974f0",
   "metadata": {},
   "outputs": [
    {
     "name": "stdout",
     "output_type": "stream",
     "text": [
      "Enter the distance in kilometers 77\n",
      "Distance in meters =  77000.0\n",
      "Distance in feet =  252624.68000000002\n",
      "Distance in inches =  3031497.6999999997\n",
      "Distance in centimeters =  7700000.0\n"
     ]
    }
   ],
   "source": [
    "# 2. Distance conversion\n",
    "distance_in_km = float(input(\"Enter the distance in kilometers \"))\n",
    "distance_in_meters = distance_in_km * 1000\n",
    "distance_in_feet = distance_in_km * 3280.84\n",
    "distance_in_inches = distance_in_km * 39370.1\n",
    "distance_in_centimeters = distance_in_km * 100000\n",
    "print(\"Distance in meters = \", distance_in_meters)\n",
    "print(\"Distance in feet = \", distance_in_feet)\n",
    "print(\"Distance in inches = \", distance_in_inches)\n",
    "print(\"Distance in centimeters = \", distance_in_centimeters)"
   ]
  },
  {
   "cell_type": "code",
   "execution_count": 20,
   "id": "b867f06c",
   "metadata": {},
   "outputs": [
    {
     "name": "stdout",
     "output_type": "stream",
     "text": [
      "Enter the marks in subject1: 97\n",
      "Enter the marks in subject2: 95\n",
      "Enter the marks in subject3: 93\n",
      "Enter the marks in subject4: 89\n",
      "Enter the marks in subject5: 91\n",
      "Aggregate marks =  465.0\n",
      "Percentage marks =  93.0\n"
     ]
    }
   ],
   "source": [
    "# 3. Marks Calculation\n",
    "marks = []\n",
    "for i in range(5):\n",
    "    marks.append(float(input(\"Enter the marks in subject\" + str(i+1) + \": \")))\n",
    "aggregate_marks = sum(marks)\n",
    "percentage_marks = aggregate_marks / 500 * 100\n",
    "print(\"Aggregate marks = \", aggregate_marks)\n",
    "print(\"Percentage marks = \", percentage_marks)"
   ]
  },
  {
   "cell_type": "code",
   "execution_count": 19,
   "id": "7c120d71",
   "metadata": {},
   "outputs": [
    {
     "name": "stdout",
     "output_type": "stream",
     "text": [
      "Enter the temperature in Fahrenheit degrees: 80\n",
      "Temperature in Centigrade degrees =  26.666666666666668\n"
     ]
    }
   ],
   "source": [
    "# 4. Temperature Conversion\n",
    "temperature_in_fahrenheit = float(input(\"Enter the temperature in Fahrenheit degrees: \"))\n",
    "temperature_in_centigrade = (temperature_in_fahrenheit - 32) *5/9\n",
    "print(\"Temperature in Centigrade degrees = \", temperature_in_centigrade)"
   ]
  },
  {
   "cell_type": "code",
   "execution_count": 18,
   "id": "0d1800c3",
   "metadata": {
    "scrolled": true
   },
   "outputs": [
    {
     "name": "stdout",
     "output_type": "stream",
     "text": [
      "Enter the length of the rectangle:45\n",
      "Enter the breadth of the rectangle:28\n",
      "Enter the length of the circle:45\n",
      "Area of the rectangle =  1260.0\n",
      "Perimeter of the rectangle =  146.0\n",
      "Area of the circle =  6358.500000000001\n",
      "Circumference of the circle =  282.6\n"
     ]
    }
   ],
   "source": [
    "# 5. Area and Perimeter Calculation\n",
    "length = float(input(\"Enter the length of the rectangle:\"))\n",
    "breadth = float(input(\"Enter the breadth of the rectangle:\"))\n",
    "radius = float(input(\"Enter the length of the circle:\"))\n",
    "rectangle_area = length * breadth\n",
    "rectangle_perimeter = 2 * (length+breadth)\n",
    "circle_area = 3.14 * radius * radius\n",
    "circle_circumference = 2 * 3.14 * radius\n",
    "print(\"Area of the rectangle = \", rectangle_area)\n",
    "print(\"Perimeter of the rectangle = \", rectangle_perimeter)\n",
    "print(\"Area of the circle = \", circle_area)\n",
    "print(\"Circumference of the circle = \", circle_circumference)"
   ]
  },
  {
   "cell_type": "code",
   "execution_count": 25,
   "id": "1d3ae8d2",
   "metadata": {},
   "outputs": [
    {
     "name": "stdout",
     "output_type": "stream",
     "text": [
      "Enter the first number: 7\n",
      "Enter the second number: 3\n",
      "First number after swapping =  3.0\n",
      "Second number after swapping =  7.0\n"
     ]
    }
   ],
   "source": [
    "# 6. Number Swapping\n",
    "number1 = float(input(\"Enter the first number: \"))\n",
    "number2 = float(input(\"Enter the second number: \"))\n",
    "number1, number2 = number2, number1\n",
    "print(\"First number after swapping = \", number1)\n",
    "print(\"Second number after swapping = \", number2)\n",
    "\n"
   ]
  },
  {
   "cell_type": "code",
   "execution_count": 27,
   "id": "4b198ee2",
   "metadata": {},
   "outputs": [
    {
     "name": "stdout",
     "output_type": "stream",
     "text": [
      "Enter the five digit number: 27320\n",
      "Sum of digits =  14\n"
     ]
    }
   ],
   "source": [
    "# 7. Sum of digits\n",
    "number = int(input(\"Enter the five digit number: \"))\n",
    "sum_of_digits = 0\n",
    "while number > 0:\n",
    "    sum_of_digits += number %10\n",
    "    number //= 10\n",
    "print(\"Sum of digits = \", sum_of_digits)"
   ]
  },
  {
   "cell_type": "code",
   "execution_count": 28,
   "id": "a090994b",
   "metadata": {},
   "outputs": [
    {
     "name": "stdout",
     "output_type": "stream",
     "text": [
      "Enter the five digit number: 25922\n",
      "Reversed number =  22952\n"
     ]
    }
   ],
   "source": [
    "# 8. Reversing a number\n",
    "number = int(input(\"Enter the five digit number: \"))\n",
    "reversed_number = 0\n",
    "while number > 0:\n",
    "    reversed_number = (reversed_number * 10) + (number % 10)\n",
    "    number //= 10\n",
    "print(\"Reversed number = \", reversed_number)"
   ]
  },
  {
   "cell_type": "code",
   "execution_count": 29,
   "id": "522a5858",
   "metadata": {},
   "outputs": [
    {
     "name": "stdout",
     "output_type": "stream",
     "text": [
      "Enter the four digit number: 5453\n",
      "Sum of first digit and last digit  8\n"
     ]
    }
   ],
   "source": [
    "# 9. Sum of first and last digit\n",
    "number = int(input(\"Enter the four digit number: \"))\n",
    "first_digit = number // 1000\n",
    "last_digit = number % 10\n",
    "sum_of_first_and_last_digit = first_digit + last_digit\n",
    "print(\"Sum of first digit and last digit \", sum_of_first_and_last_digit)"
   ]
  },
  {
   "cell_type": "code",
   "execution_count": 32,
   "id": "963b3a79",
   "metadata": {},
   "outputs": [
    {
     "name": "stdout",
     "output_type": "stream",
     "text": [
      "Number of illiterate men =  27040.0\n",
      "Number of illiterate women =  36146.66666666667\n"
     ]
    }
   ],
   "source": [
    "# 10. Illiterate population calculation\n",
    "total_population = 80000\n",
    "percentage_of_men = 52\n",
    "percentage_of_women = 100 - percentage_of_men\n",
    "percentage_of_total_literacy = 48\n",
    "percentage_of_literate_men = 35\n",
    "percentage_of_illiterate_men = 100 - percentage_of_literate_men\n",
    "number_of_literate_men = percentage_of_literate_men * total_population * percentage_of_men / 100 / 100\n",
    "number_of_illiterate_men = (100 - percentage_of_literate_men) * total_population * percentage_of_men / 100 / 100\n",
    "number_of_illiterate_women = total_population - number_of_literate_men - (number_of_illiterate_men * percentage_of_men / percentage_of_women)\n",
    "print(\"Number of illiterate men = \", number_of_illiterate_men)\n",
    "print(\"Number of illiterate women = \", number_of_illiterate_women)"
   ]
  },
  {
   "cell_type": "code",
   "execution_count": 34,
   "id": "84c7e453",
   "metadata": {},
   "outputs": [
    {
     "name": "stdout",
     "output_type": "stream",
     "text": [
      "Enter the amount to be withdrawn in hundreds: 790\n",
      "No.of hundred rupee notes =  7\n",
      "No.of fifty rupee notes =  1\n",
      "No.of ten rupee notes =  4\n"
     ]
    }
   ],
   "source": [
    "# 11. Currency note calculation\n",
    "amount_to_be_withdrawn = int(input(\"Enter the amount to be withdrawn in hundreds: \"))\n",
    "number_of_hundred_rupee_notes = amount_to_be_withdrawn // 100\n",
    "amount_remaining = amount_to_be_withdrawn % 100\n",
    "number_of_fifty_rupee_notes = amount_remaining // 50\n",
    "amount_remaining = amount_remaining % 50\n",
    "number_of_ten_rupee_notes = amount_remaining // 10\n",
    "print(\"No.of hundred rupee notes = \", number_of_hundred_rupee_notes)\n",
    "print(\"No.of fifty rupee notes = \", number_of_fifty_rupee_notes)\n",
    "print(\"No.of ten rupee notes = \", number_of_ten_rupee_notes)"
   ]
  },
  {
   "cell_type": "code",
   "execution_count": 36,
   "id": "d2bdf994",
   "metadata": {},
   "outputs": [
    {
     "name": "stdout",
     "output_type": "stream",
     "text": [
      "Enter the total selling price: 7590\n",
      "Enter the total profit: 3409\n",
      "Cost price of one item =  278.73333333333335\n"
     ]
    }
   ],
   "source": [
    "# 12. Cost price calculation\n",
    "total_selling_price = float(input(\"Enter the total selling price: \"))\n",
    "total_profit = float(input(\"Enter the total profit: \"))\n",
    "cost_price_of_one_item = (total_selling_price - total_profit) / 15\n",
    "print(\"Cost price of one item = \", cost_price_of_one_item)"
   ]
  },
  {
   "cell_type": "code",
   "execution_count": 44,
   "id": "871aa22e",
   "metadata": {},
   "outputs": [
    {
     "name": "stdout",
     "output_type": "stream",
     "text": [
      "Enter a five-digit number: 74565\n",
      "New number: 85676\n"
     ]
    }
   ],
   "source": [
    "# 13. Digit Incrementing\n",
    "number = input(\"Enter a five-digit number: \")\n",
    "if len(number) == 5 and number.isdigit():\n",
    "    number = int(number)\n",
    "    new_number = 0\n",
    "    for i in range(5):\n",
    "        digit = number % 10\n",
    "        digit += 1\n",
    "        new_number += digit * (10 ** i)\n",
    "        number //= 10\n",
    "    print(\"New number:\", new_number)\n",
    "else:\n",
    "    print(\"Invalid input. Please enter a five-digit number.\")\n"
   ]
  },
  {
   "cell_type": "code",
   "execution_count": null,
   "id": "e4ae237d",
   "metadata": {},
   "outputs": [],
   "source": []
  }
 ],
 "metadata": {
  "kernelspec": {
   "display_name": "Python 3 (ipykernel)",
   "language": "python",
   "name": "python3"
  },
  "language_info": {
   "codemirror_mode": {
    "name": "ipython",
    "version": 3
   },
   "file_extension": ".py",
   "mimetype": "text/x-python",
   "name": "python",
   "nbconvert_exporter": "python",
   "pygments_lexer": "ipython3",
   "version": "3.11.4"
  }
 },
 "nbformat": 4,
 "nbformat_minor": 5
}
