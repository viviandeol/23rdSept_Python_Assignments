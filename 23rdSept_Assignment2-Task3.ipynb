{
 "cells": [
  {
   "cell_type": "code",
   "execution_count": 2,
   "id": "352eaf73",
   "metadata": {},
   "outputs": [
    {
     "name": "stdout",
     "output_type": "stream",
     "text": [
      "Enter a number: 5\n",
      "Factorial of 5 is 120\n"
     ]
    }
   ],
   "source": [
    "# 1. Factorial of a number\n",
    "\n",
    "def factorial(n):\n",
    "    if n == 0 or n== 1:\n",
    "        return 1\n",
    "    else:\n",
    "        return n * factorial(n-1)\n",
    "    \n",
    "number = int(input(\"Enter a number: \"))\n",
    "factorial_of_number = factorial(number)\n",
    "print(\"Factorial of\", number, \"is\", factorial_of_number)"
   ]
  },
  {
   "cell_type": "code",
   "execution_count": 3,
   "id": "63602bf1",
   "metadata": {},
   "outputs": [
    {
     "name": "stdout",
     "output_type": "stream",
     "text": [
      "Enter a number: 7\n",
      "7 is a prime number. \n"
     ]
    }
   ],
   "source": [
    "# Prime or not\n",
    "\n",
    "def is_prime(n):\n",
    "    if n <= 1:\n",
    "        return False\n",
    "    for i in range(2, n):\n",
    "        if n % i == 0:\n",
    "            return False\n",
    "        return True\n",
    "\n",
    "number = int(input(\"Enter a number: \"))\n",
    "if is_prime(number):\n",
    "    print(number, \"is a prime number. \")\n",
    "else:\n",
    "    print(number, \"is not a prime number. \")"
   ]
  },
  {
   "cell_type": "code",
   "execution_count": 7,
   "id": "57bfa1e6",
   "metadata": {},
   "outputs": [
    {
     "name": "stdout",
     "output_type": "stream",
     "text": [
      "Enter a number: 4\n",
      "4 is not a prime number. \n"
     ]
    }
   ],
   "source": [
    "def is_prime(n):\n",
    "    if n <= 1:\n",
    "        return False\n",
    "    for i in range(2, n):\n",
    "        if n % i == 0:\n",
    "            return False\n",
    "        return True\n",
    "\n",
    "number = int(input(\"Enter a number: \"))\n",
    "if is_prime(number):\n",
    "    print(number, \"is a prime number. \")\n",
    "else:\n",
    "    print(number, \"is not a prime number. \")"
   ]
  },
  {
   "cell_type": "code",
   "execution_count": 10,
   "id": "4bc69b39",
   "metadata": {},
   "outputs": [
    {
     "name": "stdout",
     "output_type": "stream",
     "text": [
      "Enter a number: 17\n",
      "17 is not an Armstrong number. \n"
     ]
    }
   ],
   "source": [
    "# 3. Armstrong number\n",
    "\n",
    "def is_armstrong(n):\n",
    "    sum = 0\n",
    "    original_number = n\n",
    "    while n > 0:\n",
    "        remainder = n % 10\n",
    "        sum += remainder **2\n",
    "        n = n // 10\n",
    "    if sum == original_number:\n",
    "        return True\n",
    "    else:\n",
    "        return False\n",
    "\n",
    "number = int(input(\"Enter a number: \"))\n",
    "if is_armstrong(number):\n",
    "    print(number, \"is a Armstrong number. \")\n",
    "else:\n",
    "    print(number, \"is not an Armstrong number. \")"
   ]
  },
  {
   "cell_type": "code",
   "execution_count": 16,
   "id": "ffadb214",
   "metadata": {},
   "outputs": [
    {
     "name": "stdout",
     "output_type": "stream",
     "text": [
      "153\n",
      "370\n",
      "371\n",
      "407\n"
     ]
    }
   ],
   "source": [
    "# 4. Armstrong numbers between 100 and 999\n",
    "\n",
    "for number in range(100, 1000):\n",
    "  if is_armstrong(number):\n",
    "    print(number)\n"
   ]
  },
  {
   "cell_type": "code",
   "execution_count": 15,
   "id": "dd6e3fdb",
   "metadata": {},
   "outputs": [
    {
     "name": "stdout",
     "output_type": "stream",
     "text": [
      "153\n",
      "370\n",
      "371\n",
      "407\n"
     ]
    }
   ],
   "source": [
    "# Or\n",
    "\n",
    "for number in range(100, 1000):\n",
    "    if is_armstrong(number):\n",
    "        print(number)\n",
    "        \n",
    "def is_armstrong(n):\n",
    "    sum = 0\n",
    "    original_number = n\n",
    "    while n > 0:\n",
    "        remainder = n % 10\n",
    "        sum += remainder ** 3\n",
    "        n = n// 10\n",
    "    if sum == original_number:\n",
    "        return True\n",
    "    else:\n",
    "        return False"
   ]
  },
  {
   "cell_type": "code",
   "execution_count": 18,
   "id": "1612f207",
   "metadata": {},
   "outputs": [
    {
     "name": "stdout",
     "output_type": "stream",
     "text": [
      "Odd count:  50\n",
      "Even count:  50\n"
     ]
    }
   ],
   "source": [
    "# 5. Count and print add and even numbers\n",
    "\n",
    "odd_count = 0\n",
    "even_count = 0\n",
    "for number in range(1, 101):\n",
    "    if number % 2 == 0:\n",
    "        even_count += 1\n",
    "    else:\n",
    "        odd_count += 1\n",
    "        \n",
    "print(\"Odd count: \", odd_count)\n",
    "print(\"Even count: \", even_count)"
   ]
  },
  {
   "cell_type": "code",
   "execution_count": 24,
   "id": "4f84c96f",
   "metadata": {},
   "outputs": [
    {
     "name": "stdout",
     "output_type": "stream",
     "text": [
      "Enter a number: 54598\n",
      "Reversed number:  89545\n"
     ]
    }
   ],
   "source": [
    "# 6. Reverse of a number\n",
    "\n",
    "def reverse_number(n):\n",
    "    reversed_number = 0\n",
    "    while n > 0:\n",
    "        remainder = n % 10\n",
    "        reversed_number = reversed_number * 10 + remainder\n",
    "        n = n // 10\n",
    "    return reversed_number\n",
    "\n",
    "number = int(input(\"Enter a number: \"))\n",
    "reversed_number = reverse_number(number)\n",
    "print(\"Reversed number: \", reversed_number)"
   ]
  },
  {
   "cell_type": "code",
   "execution_count": 25,
   "id": "7f8312de",
   "metadata": {},
   "outputs": [
    {
     "name": "stdout",
     "output_type": "stream",
     "text": [
      "Enter a number: 15\n",
      "Binary number:  1111\n"
     ]
    }
   ],
   "source": [
    "# 7. Binary number from decimal number\n",
    "\n",
    "def decimal_to_binary(n):\n",
    "    binary_number = \"\"\n",
    "    while n > 0:\n",
    "        remainder = n % 2\n",
    "        binary_number = str(remainder) + binary_number\n",
    "        n = n // 2\n",
    "    return binary_number\n",
    "\n",
    "number = int(input(\"Enter a number: \"))\n",
    "binary_number = decimal_to_binary(number)\n",
    "print(\"Binary number: \", binary_number)"
   ]
  },
  {
   "cell_type": "code",
   "execution_count": 26,
   "id": "4a1bc727",
   "metadata": {},
   "outputs": [
    {
     "name": "stdout",
     "output_type": "stream",
     "text": [
      "Enter a binary number: 1001\n",
      "Decimal number:  9\n"
     ]
    }
   ],
   "source": [
    "# 8. Decimal number from binary\n",
    "\n",
    "def binary_to_decimal(n):\n",
    "    decimal_number = 0\n",
    "    power = 1\n",
    "    while n > 0:\n",
    "        remainder = n % 10\n",
    "        decimal_number += remainder * power\n",
    "        power *= 2\n",
    "        n = n // 10\n",
    "    return decimal_number\n",
    "\n",
    "number = int(input(\"Enter a binary number: \"))\n",
    "decimal_number = binary_to_decimal(number)\n",
    "print(\"Decimal number: \", decimal_number)"
   ]
  },
  {
   "cell_type": "code",
   "execution_count": 31,
   "id": "c90d30cd",
   "metadata": {},
   "outputs": [
    {
     "name": "stdout",
     "output_type": "stream",
     "text": [
      "Enter a number: 5\n",
      "Factorial of 5 is 120\n"
     ]
    }
   ],
   "source": [
    "# 9. Factorial of a number\n",
    "\n",
    "def factorial(n):\n",
    "    if n == 0 or n == 1:\n",
    "        return 1\n",
    "    else:\n",
    "        return n * factorial(n-1)\n",
    "    \n",
    "number = int(input(\"Enter a number: \"))\n",
    "factorial_of_a_number = factorial(number)\n",
    "print(\"Factorial of\", number, \"is\", factorial_of_number)"
   ]
  },
  {
   "cell_type": "code",
   "execution_count": 36,
   "id": "2737a674",
   "metadata": {},
   "outputs": [
    {
     "name": "stdout",
     "output_type": "stream",
     "text": [
      "Enter the number of Fibonacci numbers to generate: 14\n",
      "Fiboncci Series:  [0, 1, 1, 2, 3, 5, 8, 13, 21, 34, 55, 89, 144, 233]\n"
     ]
    }
   ],
   "source": [
    "# 10. Fibonacci Series\n",
    "\n",
    "def fibonacci(n):\n",
    "    if n <= 0:\n",
    "        return[]\n",
    "    elif n == 1:\n",
    "        return[0]\n",
    "    elif n == 2:\n",
    "        return [0,1]\n",
    "    \n",
    "    fib_series = [0,1]\n",
    "    while len(fib_series) < n:\n",
    "        next_num = fib_series[-1] + fib_series[-2]\n",
    "        fib_series.append(next_num)\n",
    "        \n",
    "    return fib_series\n",
    "\n",
    "n = int(input(\"Enter the number of Fibonacci numbers to generate: \"))\n",
    "result = fibonacci(n)\n",
    "print(\"Fiboncci Series: \", result)\n"
   ]
  },
  {
   "cell_type": "code",
   "execution_count": 38,
   "id": "834fa920",
   "metadata": {},
   "outputs": [
    {
     "name": "stdout",
     "output_type": "stream",
     "text": [
      "Enter a number to check if it's a perfect number: 548\n",
      "548 is not a perfect number.\n"
     ]
    }
   ],
   "source": [
    "# 11. Perfect number\n",
    "\n",
    "def is_perfect_number(num):\n",
    "    factors = [1]\n",
    "    for i in range(2, num // 2 + 1):\n",
    "        if num % i == 0:\n",
    "            factors.append(i)\n",
    "            \n",
    "    return sum(factors) == num\n",
    "\n",
    "num = int(input(\"Enter a number to check if it's a perfect number: \"))\n",
    "if is_perfect_number(num):\n",
    "    print(f\"{num} is a perfect number.\")\n",
    "else:\n",
    "    print(f\"{num} is not a perfect number.\")"
   ]
  },
  {
   "cell_type": "code",
   "execution_count": 39,
   "id": "fbcf855f",
   "metadata": {},
   "outputs": [
    {
     "name": "stdout",
     "output_type": "stream",
     "text": [
      "Perfect number between 1 and 1000: \n",
      "1\n",
      "6\n",
      "28\n",
      "496\n"
     ]
    }
   ],
   "source": [
    "# 12. Perfect number in 1-1000\n",
    "\n",
    "def is_perfect_number(num):\n",
    "    factors = [1]\n",
    "    for i in range (2, num // 2+1):\n",
    "        if num % i == 0:\n",
    "            factors.append(i)\n",
    "            \n",
    "    return sum(factors) == num\n",
    "\n",
    "print(\"Perfect number between 1 and 1000: \")\n",
    "for num in range (1, 1001):\n",
    "    if is_perfect_number(num):\n",
    "        print(num)\n",
    "                           \n",
    "                           "
   ]
  },
  {
   "cell_type": "code",
   "execution_count": 44,
   "id": "f26ddb14",
   "metadata": {},
   "outputs": [
    {
     "name": "stdout",
     "output_type": "stream",
     "text": [
      "Enter a number to check if it's a strong number: 999\n",
      "999 is not a strong number.\n"
     ]
    }
   ],
   "source": [
    "# 13. Strong number\n",
    "\n",
    "def factorial(n):\n",
    "    if n == 0:\n",
    "        return 1\n",
    "    return n * factorial(n-1)\n",
    "\n",
    "def is_strong_number(num):\n",
    "    num_copy = num\n",
    "    digit_sum = 0\n",
    "    while num > 0:\n",
    "        digit = num % 10\n",
    "        digit_sum += factorial(digit)\n",
    "        num //= 10\n",
    "        \n",
    "    return digit_sum == num_copy\n",
    "\n",
    "num = int(input(\"Enter a number to check if it's a strong number: \"))\n",
    "if is_strong_number(num):\n",
    "    print(f\"{num} is a strong number.\")\n",
    "else:\n",
    "    print(f\"{num} is not a strong number.\")"
   ]
  },
  {
   "cell_type": "code",
   "execution_count": 2,
   "id": "9d8bbb54",
   "metadata": {},
   "outputs": [
    {
     "name": "stdout",
     "output_type": "stream",
     "text": [
      "Enter the base number: 9\n",
      "Enter the exponent: 3\n",
      "9.0 raised to the power of 3.0 is 729.0\n"
     ]
    }
   ],
   "source": [
    "# 14. Number raised to Power\n",
    "\n",
    "base = float(input(\"Enter the base number: \"))\n",
    "exponent = float(input(\"Enter the exponent: \"))\n",
    "result = base ** exponent\n",
    "print(f\"{base} raised to the power of {exponent} is {result}\")"
   ]
  },
  {
   "cell_type": "code",
   "execution_count": null,
   "id": "26be1808",
   "metadata": {},
   "outputs": [],
   "source": []
  }
 ],
 "metadata": {
  "kernelspec": {
   "display_name": "Python 3 (ipykernel)",
   "language": "python",
   "name": "python3"
  },
  "language_info": {
   "codemirror_mode": {
    "name": "ipython",
    "version": 3
   },
   "file_extension": ".py",
   "mimetype": "text/x-python",
   "name": "python",
   "nbconvert_exporter": "python",
   "pygments_lexer": "ipython3",
   "version": "3.11.4"
  }
 },
 "nbformat": 4,
 "nbformat_minor": 5
}
